{
 "cells": [
  {
   "cell_type": "markdown",
   "metadata": {},
   "source": [
    "# Intro to Python: Exercise 3\n",
    "\n",
    "## Likelihood of a Data Sample\n",
    "In this exercise, you are not required to understand the statistics and machine learning concepts described here yet. The goal here is just to practically implement the assignment of data to two given distributions, in Python.\n",
    "A subtask of many machine learning algorithms is to compute the likelihood p(x<sub>n</sub>|θ) of a sample xn for a given density model with parameters θ. Given k models, we now want to assign xn to the model for which the likelihood is maximal: an = argmaxm p(x<sub>n</sub> |θ<sub>m</sub>), where m = 1,...,k. Here θ<sub>m</sub> = (μ<sub>m</sub>,Σ<sub>m</sub>) are the parameters of the m-th density model (μ<sub>m</sub> ∈ R<sup>d</sup> is the mean, and Σ<sub>m</sub> is the so called covariance matrix).\n",
    "We ask you to implement the assignment step for the two model case, i.e. k = 2. As input, your function receives a set of data examples x<sub>n</sub> ∈ R<sup>d</sup> (indexed by 1 ≤ n ≤ N) as well as the two sets of parameters θ<sub>1</sub> = (μ<sub>1</sub>,Σ<sub>1</sub>) and θ<sub>2</sub> = (μ<sub>2</sub>, Σ<sub>2</sub>) of two given multivariate Gaussian distributions:\n",
    "$$p(x_n|\\mu,\\Sigma)=  \\frac{1}{(2 \\pi )^{d/2}| \\Sigma |^{1/2}} \\exp(-\\frac{1}{2}(x_n -  \\mu)^{T} \\Sigma^{-1}(x_n - \\mu))$$\n",
    "|Σ| is the determinant of Σ and Σ<sup>-1</sup> its inverse. Your function must return the ’most likely’ assignment an ∈ {1, 2} for each input point n, where a<sub>n</sub> = 1 means that x<sub>n</sub> has been assigned to model 1. In other words in the case that a<sub>n</sub> = 1, it holds that p(x<sub>n</sub> |μ<sub>1</sub>,Σ<sub>1</sub>) > p(x<sub>n</sub> |μ<sub>2</sub>,Σ<sub>2</sub>)."
   ]
  },
  {
   "cell_type": "code",
   "execution_count": 5,
   "metadata": {},
   "outputs": [],
   "source": [
    "%matplotlib inline\n",
    "import numpy as np\n",
    "import matplotlib.pyplot as plt\n",
    "%load_ext autoreload\n",
    "%autoreload 2"
   ]
  },
  {
   "cell_type": "markdown",
   "metadata": {},
   "source": [
    "Data Generation\n",
    "==="
   ]
  },
  {
   "cell_type": "code",
   "execution_count": 6,
   "metadata": {},
   "outputs": [],
   "source": [
    "from numpy.random import rand, randn"
   ]
  },
  {
   "cell_type": "code",
   "execution_count": 7,
   "metadata": {},
   "outputs": [],
   "source": [
    "n, d, k = 100, 2, 2"
   ]
  },
  {
   "cell_type": "code",
   "execution_count": 8,
   "metadata": {},
   "outputs": [
    {
     "name": "stdout",
     "output_type": "stream",
     "text": [
      "[array([0.69872366, 0.75176984]), array([0.25997411, 0.14504062])]\n",
      "[array([[0.01764816, 0.        ],\n",
      "       [0.        , 0.06360523]]), array([[0.01764816, 0.        ],\n",
      "       [0.        , 0.06360523]])]\n"
     ]
    }
   ],
   "source": [
    "np.random.seed(20)\n",
    "X = rand(n, d)\n",
    "\n",
    "# means = [rand(d)  for _ in range(k)]  # works for any k\n",
    "means = [rand(d) * 0.5 + 0.5 , - rand(d)  * 0.5 + 0.5]  # for better plotting when k = 2\n",
    "\n",
    "S = np.diag(rand(d))\n",
    "\n",
    "sigmas = [S]*k # we'll use the same Sigma for all clusters for better visual results\n",
    "\n",
    "print(means)\n",
    "print(sigmas)"
   ]
  },
  {
   "cell_type": "markdown",
   "metadata": {},
   "source": [
    "Solution\n",
    "==="
   ]
  },
  {
   "cell_type": "code",
   "execution_count": 9,
   "metadata": {},
   "outputs": [],
   "source": [
    "import math"
   ]
  },
  {
   "cell_type": "code",
   "execution_count": 10,
   "metadata": {},
   "outputs": [
    {
     "name": "stdout",
     "output_type": "stream",
     "text": [
      "[[0.01764816 0.        ]\n",
      " [0.         0.06360523]]\n",
      "[[0.01764816 0.        ]\n",
      " [0.         0.06360523]]\n"
     ]
    }
   ],
   "source": [
    "for m, s in zip(means, sigmas):\n",
    "    print(s) "
   ]
  },
  {
   "cell_type": "code",
   "execution_count": 17,
   "metadata": {
    "scrolled": true
   },
   "outputs": [],
   "source": [
    "def compute_log_p(X, mean, sigma):\n",
    "    #p=np.sum(np.exp(-0.5*np.dot((X-mean),np.linalg.inv(sigma),((X-mean).T)),axis=1)/((np.pi**(len(X)/2))*(sigma**0.5)))\n",
    "    p=np.sum(np.exp(-0.5*(X-mean).dot(np.linalg.inv(sigma)).dot((X - mean).T)),axis=1)/(((2*np.pi)**( X.shape[1]/2))*np.sqrt(np.linalg.det(sigma)))\n",
    "    return p"
   ]
  },
  {
   "cell_type": "code",
   "execution_count": 18,
   "metadata": {},
   "outputs": [],
   "source": [
    "log_ps = [compute_log_p(X, m, s) for m, s in zip(means, sigmas)]  # exercise: try to do this without looping"
   ]
  },
  {
   "cell_type": "code",
   "execution_count": 19,
   "metadata": {},
   "outputs": [
    {
     "name": "stdout",
     "output_type": "stream",
     "text": [
      "[0 0 0 0 1 0 0 1 0 0 0 1 0 0 0 0 0 0 0 0 0 0 0 0 1 0 0 0 0 0 1 0 0 0 1 0 0\n",
      " 0 0 0 0 0 0 0 1 0 1 0 0 0 0 0 0 0 0 1 1 0 0 0 0 0 0 0 0 0 0 0 0 1 0 0 0 0\n",
      " 0 0 0 0 0 0 0 0 0 0 0 0 0 0 0 0 0 0 0 0 0 0 0 0 0 0]\n"
     ]
    }
   ],
   "source": [
    "assignments = np.argmax(log_ps, axis=0)\n",
    "print(assignments)"
   ]
  },
  {
   "cell_type": "code",
   "execution_count": 20,
   "metadata": {
    "scrolled": true
   },
   "outputs": [
    {
     "data": {
      "image/png": "[encoded data removed]",
      "text/plain": [
       "<Figure size 432x288 with 1 Axes>"
      ]
     },
     "metadata": {
      "needs_background": "light"
     },
     "output_type": "display_data"
    }
   ],
   "source": [
    "colors = np.array(['red', 'green'])[assignments]\n",
    "plt.scatter(X[:, 0], X[:, 1], c=colors, s=100)\n",
    "plt.scatter(np.array(means)[:, 0], np.array(means)[:, 1], marker='*', s=200)\n",
    "plt.show()"
   ]
  },
  {
   "cell_type": "code",
   "execution_count": null,
   "metadata": {},
   "outputs": [],
   "source": []
  }
 ],
 "metadata": {
  "kernelspec": {
   "display_name": "Python 3",
   "language": "python",
   "name": "python3"
  },
  "language_info": {
   "codemirror_mode": {
    "name": "ipython",
    "version": 3
   },
   "file_extension": ".py",
   "mimetype": "text/x-python",
   "name": "python",
   "nbconvert_exporter": "python",
   "pygments_lexer": "ipython3",
   "version": "3.5.6"
  }
 },
 "nbformat": 4,
 "nbformat_minor": 1
}

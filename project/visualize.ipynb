{
 "cells": [
  {
   "cell_type": "code",
   "execution_count": 1,
   "metadata": {},
   "outputs": [
    {
     "name": "stdout",
     "output_type": "stream",
     "text": [
      "['test/000000057149.jpg']\r\n",
      "nn processing time 0.061537742614746094\r\n",
      "image 0 test/000000057149.jpg test/000000057149.jpg\r\n",
      "target_intensities 0.18358230590820312\r\n",
      "seeds 0 0.12578678131103516\r\n",
      "keypoint sets 0 0.1258254051208496\r\n",
      "annotations 0 0.3211979866027832\r\n"
     ]
    }
   ],
   "source": [
    "! python predict.py \\\n",
    "--checkpoint outputs/resnet50block5-pif80-edge401-190530-234936.pkl.epoch005 test/000000057149.jpg\\\n",
    "--show --pif-fixed-scale=1.0 --instance-threshold=0"
   ]
  },
  {
   "cell_type": "code",
   "execution_count": 1,
   "metadata": {},
   "outputs": [],
   "source": [
    "from patch_paste_create import *\n",
    "from PIL import Image\n",
    "background = Image.open(\"test/000000065485.jpg\")\n",
    "target_img = Image.open(\"test/car.jpg\")\n",
    "pasted = paste_img(background, target_img, 1)"
   ]
  },
  {
   "cell_type": "code",
   "execution_count": 2,
   "metadata": {},
   "outputs": [
    {
     "data": {
      "text/plain": [
       "(80, 60)"
      ]
     },
     "execution_count": 2,
     "metadata": {},
     "output_type": "execute_result"
    }
   ],
   "source": [
    "pasted.size"
   ]
  },
  {
   "cell_type": "code",
   "execution_count": 6,
   "metadata": {},
   "outputs": [
    {
     "data": {
      "text/plain": [
       "(68, 83)"
      ]
     },
     "execution_count": 6,
     "metadata": {},
     "output_type": "execute_result"
    }
   ],
   "source": [
    "np.asarray(ask).shape"
   ]
  },
  {
   "cell_type": "code",
   "execution_count": 3,
   "metadata": {},
   "outputs": [
    {
     "data": {
      "text/plain": [
       "(364, 640, 4)"
      ]
     },
     "execution_count": 3,
     "metadata": {},
     "output_type": "execute_result"
    }
   ],
   "source": [
    "np.asarray(background.convert('RGBA')).shape"
   ]
  },
  {
   "cell_type": "code",
   "execution_count": 9,
   "metadata": {},
   "outputs": [
    {
     "data": {
      "text/plain": [
       "()"
      ]
     },
     "execution_count": 9,
     "metadata": {},
     "output_type": "execute_result"
    }
   ],
   "source": [
    "np.asarray(pasted).shape"
   ]
  },
  {
   "cell_type": "code",
   "execution_count": 1,
   "metadata": {},
   "outputs": [
    {
     "name": "stdout",
     "output_type": "stream",
     "text": [
      "Traceback (most recent call last):\r\n",
      "  File \"train-new.py\", line 9, in <module>\r\n",
      "    import datasets_detection as datasets\r\n",
      "  File \"/home/mcui/selfdriving/datasets_detection.py\", line 5, in <module>\r\n",
      "    import torchvision\r\n",
      "  File \"/home/mcui/anaconda3/envs/pytorch/lib/python3.7/site-packages/torchvision/__init__.py\", line 63, in <module>\r\n",
      "    _check_cuda_matches()\r\n",
      "  File \"/home/mcui/anaconda3/envs/pytorch/lib/python3.7/site-packages/torchvision/__init__.py\", line 60, in _check_cuda_matches\r\n",
      "    .format(t_major, t_minor, tv_major, tv_minor))\r\n",
      "RuntimeError: Detected that PyTorch and torchvision were compiled with different CUDA versions. PyTorch has CUDA Version=9.0 and torchvision has CUDA Version=10.0. Please reinstall the torchvision that matches your PyTorch install.\r\n"
     ]
    }
   ],
   "source": [
    "!python train-new.py --lr=1e-3 --momentum=0.95 --epochs=10 --lr-decay 60 70 \\\n",
    "--batch-size=8 --basenet=resnet50block5 --head-quad=1 --headnets pif1 \\\n",
    "--square-edge=401 --regression-loss=laplace --lambdas 30 2 1 \\\n",
    "--freeze-base=1 --crop-fraction=0.5"
   ]
  },
  {
   "cell_type": "code",
   "execution_count": 6,
   "metadata": {},
   "outputs": [],
   "source": [
    "import numpy as np\n",
    "import matplotlib.pyplot as plt\n",
    "import cv2\n",
    "%matplotlib inline"
   ]
  },
  {
   "cell_type": "code",
   "execution_count": null,
   "metadata": {},
   "outputs": [],
   "source": [
    "img = cv2.imread('test/000000000001.jpg',1)"
   ]
  },
  {
   "cell_type": "code",
   "execution_count": null,
   "metadata": {},
   "outputs": [],
   "source": [
    "print(img)"
   ]
  },
  {
   "cell_type": "code",
   "execution_count": null,
   "metadata": {},
   "outputs": [],
   "source": [
    "plt.imshow(img)"
   ]
  },
  {
   "cell_type": "code",
   "execution_count": null,
   "metadata": {},
   "outputs": [],
   "source": [
    "# 画圆，圆心为：(160, 160)，半径为：60，颜色为：point_color，实心线\n",
    "point_color = (0, 0, 255) \n",
    "img2 = cv2.circle(img, (160, 160), 1, point_color, -1)"
   ]
  },
  {
   "cell_type": "code",
   "execution_count": null,
   "metadata": {},
   "outputs": [],
   "source": [
    "plt.imshow(img2)"
   ]
  },
  {
   "cell_type": "code",
   "execution_count": null,
   "metadata": {},
   "outputs": [],
   "source": [
    "cv2.imwrite('test.jpg',img2)"
   ]
  },
  {
   "cell_type": "code",
   "execution_count": null,
   "metadata": {},
   "outputs": [],
   "source": [
    "int(2.1)"
   ]
  },
  {
   "cell_type": "code",
   "execution_count": null,
   "metadata": {},
   "outputs": [],
   "source": [
    "a=[1,2,3]"
   ]
  },
  {
   "cell_type": "code",
   "execution_count": null,
   "metadata": {},
   "outputs": [],
   "source": [
    "a =set(a)\n",
    "b = set([2])"
   ]
  },
  {
   "cell_type": "code",
   "execution_count": null,
   "metadata": {},
   "outputs": [],
   "source": [
    "list(set(a) - set(b))"
   ]
  },
  {
   "cell_type": "code",
   "execution_count": null,
   "metadata": {},
   "outputs": [],
   "source": [
    "list = [1, 2, 3, 4, 5, 6, 7, 8, 9, 10]  \n",
    "slice = random.sample(list, 5)  #从list中随机获取5个元素，作为一个片断返回  \n",
    "print slice  \n",
    "print list #原有序列并没有改变。  "
   ]
  },
  {
   "cell_type": "code",
   "execution_count": null,
   "metadata": {},
   "outputs": [],
   "source": [
    "from random import sample\n",
    "l = [1, 2, 3, 4, 5, 6, 7, 8, 9, 10] \n",
    "print(de1) #"
   ]
  },
  {
   "cell_type": "code",
   "execution_count": null,
   "metadata": {},
   "outputs": [],
   "source": [
    "b = [1,2]"
   ]
  },
  {
   "cell_type": "code",
   "execution_count": null,
   "metadata": {},
   "outputs": [],
   "source": [
    "l+b"
   ]
  },
  {
   "cell_type": "code",
   "execution_count": null,
   "metadata": {},
   "outputs": [],
   "source": [
    "l"
   ]
  },
  {
   "cell_type": "code",
   "execution_count": null,
   "metadata": {},
   "outputs": [],
   "source": [
    "import "
   ]
  }
 ],
 "metadata": {
  "kernelspec": {
   "display_name": "Python [conda env:pytorch]",
   "language": "python",
   "name": "conda-env-pytorch-py"
  },
  "language_info": {
   "codemirror_mode": {
    "name": "ipython",
    "version": 3
   },
   "file_extension": ".py",
   "mimetype": "text/x-python",
   "name": "python",
   "nbconvert_exporter": "python",
   "pygments_lexer": "ipython3",
   "version": "3.7.3"
  }
 },
 "nbformat": 4,
 "nbformat_minor": 2
}

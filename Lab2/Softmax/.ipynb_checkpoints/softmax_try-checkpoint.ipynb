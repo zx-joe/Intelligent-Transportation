{
 "cells": [
  {
   "cell_type": "markdown",
   "metadata": {},
   "source": [
    "# Softmax exercise\n",
    "\n",
    "We will implement a softmax classifier that is trained on the CIFAR10 dataset. The output is a model that is able to classify the input image into the 10 different classes of the CIFAR10 dataset.\n",
    "\n",
    "Complete and hand in this completed worksheet (including its outputs and any supporting code outside of the worksheet) with your assignment submission.\n",
    "\n",
    "You will:\n",
    "\n",
    "- implement a fully-vectorized **loss function** for the Softmax classifier\n",
    "- implement the fully-vectorized expression for its **analytic gradient**\n",
    "- use a validation set to **tune the learning rate** strength\n",
    "- **optimize** the loss function with **SGD**\n",
    "- **visualize** the final learned weights\n"
   ]
  },
  {
   "cell_type": "code",
   "execution_count": 1,
   "metadata": {},
   "outputs": [],
   "source": [
    "import random\n",
    "import numpy as np\n",
    "from data_utils import load_CIFAR10\n",
    "import matplotlib.pyplot as plt\n",
    "import time\n",
    "import pickle\n",
    "\n",
    "%matplotlib inline\n",
    "plt.rcParams['figure.figsize'] = (10.0, 8.0) # set default size of plots\n",
    "plt.rcParams['image.interpolation'] = 'nearest'\n",
    "plt.rcParams['image.cmap'] = 'gray'\n",
    "\n",
    "# for auto-reloading extenrnal modules\n",
    "# see http://stackoverflow.com/questions/1907993/autoreload-of-modules-in-ipython\n",
    "%load_ext autoreload\n",
    "%autoreload 2"
   ]
  },
  {
   "cell_type": "code",
   "execution_count": 2,
   "metadata": {},
   "outputs": [
    {
     "name": "stdout",
     "output_type": "stream",
     "text": [
      "Files already downloaded and verified\n",
      "Train data shape:  (49000, 3073)\n",
      "Train labels shape:  (49000,)\n",
      "Validation data shape:  (1000, 3073)\n",
      "Validation labels shape:  (1000,)\n"
     ]
    }
   ],
   "source": [
    "def get_CIFAR10_data(num_training=49000, num_validation=1000, num_test=1000, num_dev=500):\n",
    "    \"\"\"\n",
    "    Load the CIFAR-10 dataset from disk and perform preprocessing to prepare\n",
    "    it for the linear classifier.  \n",
    "    \"\"\"\n",
    "    # Load the raw CIFAR-10 data\n",
    "    cifar10_dir = '../data/cifar-10-batches-py'\n",
    "    X_train, y_train = load_CIFAR10(cifar10_dir)\n",
    "    \n",
    "    # subsample the data\n",
    "    mask = list(range(num_training, num_training + num_validation))\n",
    "    X_val = X_train[mask]\n",
    "    y_val = y_train[mask]\n",
    "    mask = list(range(num_training))\n",
    "    X_train = X_train[mask]\n",
    "    y_train = y_train[mask]\n",
    "    \n",
    "    # Preprocessing: reshape the image data into rows\n",
    "    X_train = np.reshape(X_train, (X_train.shape[0], -1))\n",
    "    X_val = np.reshape(X_val, (X_val.shape[0], -1))\n",
    "    \n",
    "    # Normalize the data: subtract the mean image\n",
    "    mean_image = np.mean(X_train, axis = 0)\n",
    "    X_train -= mean_image\n",
    "    X_val -= mean_image\n",
    "    \n",
    "    # add bias dimension and transform into columns\n",
    "    X_train = np.hstack([X_train, np.ones((X_train.shape[0], 1))])\n",
    "    X_val = np.hstack([X_val, np.ones((X_val.shape[0], 1))])\n",
    "    \n",
    "    return X_train, y_train, X_val, y_val\n",
    "\n",
    "\n",
    "# Invoke the above function to get our data.\n",
    "X_train, y_train, X_val, y_val = get_CIFAR10_data()\n",
    "print('Train data shape: ', X_train.shape)\n",
    "print('Train labels shape: ', y_train.shape)\n",
    "print('Validation data shape: ', X_val.shape)\n",
    "print('Validation labels shape: ', y_val.shape)"
   ]
  },
  {
   "cell_type": "markdown",
   "metadata": {},
   "source": [
    "## Softmax Classifier\n",
    "\n",
    "Your code for this section will all be written inside **softmax.py**. This is where the method **softmax_loss_vectorized** will be implemented. This method just returns the loss and gradient after applying the softmax function.\n"
   ]
  },
  {
   "cell_type": "code",
   "execution_count": 3,
   "metadata": {},
   "outputs": [
    {
     "name": "stdout",
     "output_type": "stream",
     "text": [
      "vectorized loss: 2.372994e+00 computed in 0.528760s\n"
     ]
    }
   ],
   "source": [
    "from softmax import softmax_loss_vectorized\n",
    "W = np.random.randn(3073, 10) * 0.0001\n",
    "tic = time.time()\n",
    "loss_vectorized, grad_vectorized = softmax_loss_vectorized(W, X_val, y_val)\n",
    "toc = time.time()\n",
    "print('vectorized loss: %e computed in %fs' % (loss_vectorized, toc - tic))"
   ]
  },
  {
   "cell_type": "markdown",
   "metadata": {},
   "source": [
    "## In the file linear_classifier.py, implement SGD in the function LinearClassifier.train() and call this function to do the training.\n",
    "## Write the LinearSVM.predict() function and call this function to evaluate the performance on both the training and validation set"
   ]
  },
  {
   "cell_type": "code",
   "execution_count": 26,
   "metadata": {},
   "outputs": [
    {
     "name": "stdout",
     "output_type": "stream",
     "text": [
      "iteration 0 / 5000: loss 6.595182\n",
      "iteration 100 / 5000: loss 3.899530\n",
      "iteration 200 / 5000: loss 3.548745\n",
      "iteration 300 / 5000: loss 3.410817\n",
      "iteration 400 / 5000: loss 3.062609\n",
      "iteration 500 / 5000: loss 3.217021\n",
      "iteration 600 / 5000: loss 2.872614\n",
      "iteration 700 / 5000: loss 3.013549\n",
      "iteration 800 / 5000: loss 2.838757\n",
      "iteration 900 / 5000: loss 2.768853\n",
      "iteration 1000 / 5000: loss 2.626383\n",
      "iteration 1100 / 5000: loss 2.626685\n",
      "iteration 1200 / 5000: loss 2.794404\n",
      "iteration 1300 / 5000: loss 2.693818\n",
      "iteration 1400 / 5000: loss 2.589349\n",
      "iteration 1500 / 5000: loss 2.845976\n",
      "iteration 1600 / 5000: loss 2.276796\n",
      "iteration 1700 / 5000: loss 2.614467\n",
      "iteration 1800 / 5000: loss 2.476691\n",
      "iteration 1900 / 5000: loss 2.300469\n",
      "iteration 2000 / 5000: loss 2.601491\n",
      "iteration 2100 / 5000: loss 2.436443\n",
      "iteration 2200 / 5000: loss 2.418790\n",
      "iteration 2300 / 5000: loss 2.352266\n",
      "iteration 2400 / 5000: loss 2.364202\n",
      "iteration 2500 / 5000: loss 2.367869\n",
      "iteration 2600 / 5000: loss 2.329899\n",
      "iteration 2700 / 5000: loss 2.352890\n",
      "iteration 2800 / 5000: loss 2.298887\n",
      "iteration 2900 / 5000: loss 2.214157\n",
      "iteration 3000 / 5000: loss 2.379385\n",
      "iteration 3100 / 5000: loss 2.444117\n",
      "iteration 3200 / 5000: loss 2.260840\n",
      "iteration 3300 / 5000: loss 2.379906\n",
      "iteration 3400 / 5000: loss 2.199374\n",
      "iteration 3500 / 5000: loss 2.390353\n",
      "iteration 3600 / 5000: loss 2.205405\n",
      "iteration 3700 / 5000: loss 2.366270\n",
      "iteration 3800 / 5000: loss 2.407926\n",
      "iteration 3900 / 5000: loss 2.142810\n",
      "iteration 4000 / 5000: loss 2.413511\n",
      "iteration 4100 / 5000: loss 2.362284\n",
      "iteration 4200 / 5000: loss 2.153485\n",
      "iteration 4300 / 5000: loss 2.259006\n",
      "iteration 4400 / 5000: loss 2.177837\n",
      "iteration 4500 / 5000: loss 2.087519\n",
      "iteration 4600 / 5000: loss 2.203650\n",
      "iteration 4700 / 5000: loss 2.115717\n",
      "iteration 4800 / 5000: loss 2.186861\n",
      "iteration 4900 / 5000: loss 2.152561\n",
      "iteration 0 / 5000: loss 5.747601\n",
      "iteration 100 / 5000: loss 3.129431\n",
      "iteration 200 / 5000: loss 2.925473\n",
      "iteration 300 / 5000: loss 2.754235\n",
      "iteration 400 / 5000: loss 2.364530\n",
      "iteration 500 / 5000: loss 2.483678\n",
      "iteration 600 / 5000: loss 2.522541\n",
      "iteration 700 / 5000: loss 2.320330\n",
      "iteration 800 / 5000: loss 2.386127\n",
      "iteration 900 / 5000: loss 2.254273\n",
      "iteration 1000 / 5000: loss 2.061678\n",
      "iteration 1100 / 5000: loss 2.263833\n",
      "iteration 1200 / 5000: loss 2.263030\n",
      "iteration 1300 / 5000: loss 2.248793\n",
      "iteration 1400 / 5000: loss 2.157154\n",
      "iteration 1500 / 5000: loss 1.973326\n",
      "iteration 1600 / 5000: loss 1.987764\n",
      "iteration 1700 / 5000: loss 2.062137\n",
      "iteration 1800 / 5000: loss 2.081504\n",
      "iteration 1900 / 5000: loss 2.060183\n",
      "iteration 2000 / 5000: loss 2.003003\n",
      "iteration 2100 / 5000: loss 2.111998\n",
      "iteration 2200 / 5000: loss 2.059896\n",
      "iteration 2300 / 5000: loss 1.938879\n",
      "iteration 2400 / 5000: loss 1.940011\n",
      "iteration 2500 / 5000: loss 2.043227\n",
      "iteration 2600 / 5000: loss 2.039942\n",
      "iteration 2700 / 5000: loss 1.876498\n",
      "iteration 2800 / 5000: loss 1.763831\n",
      "iteration 2900 / 5000: loss 1.988262\n",
      "iteration 3000 / 5000: loss 1.960716\n",
      "iteration 3100 / 5000: loss 2.000471\n",
      "iteration 3200 / 5000: loss 2.001803\n",
      "iteration 3300 / 5000: loss 1.979479\n",
      "iteration 3400 / 5000: loss 1.956806\n",
      "iteration 3500 / 5000: loss 1.740579\n",
      "iteration 3600 / 5000: loss 2.002372\n",
      "iteration 3700 / 5000: loss 1.787828\n",
      "iteration 3800 / 5000: loss 1.919246\n",
      "iteration 3900 / 5000: loss 1.971013\n",
      "iteration 4000 / 5000: loss 1.947691\n",
      "iteration 4100 / 5000: loss 1.902746\n",
      "iteration 4200 / 5000: loss 1.814591\n",
      "iteration 4300 / 5000: loss 1.962039\n",
      "iteration 4400 / 5000: loss 1.830573\n",
      "iteration 4500 / 5000: loss 2.000204\n",
      "iteration 4600 / 5000: loss 1.995973\n",
      "iteration 4700 / 5000: loss 1.822562\n",
      "iteration 4800 / 5000: loss 1.872069\n",
      "iteration 4900 / 5000: loss 1.877624\n",
      "lr 1.000000e-07 train accuracy: 0.303551 val accuracy: 0.307000\n",
      "lr 5.000000e-07 train accuracy: 0.374755 val accuracy: 0.359000\n",
      "best validation accuracy achieved during cross-validation: 0.359000\n"
     ]
    }
   ],
   "source": [
    "# Use the validation set to tune hyperparameters (learning rate). \n",
    "# You should experiment with different ranges for the learning\n",
    "# rates; if you are careful you should be able to\n",
    "# get a classification accuracy of over 0.35 on the validation set.\n",
    "from linear_classifier import Softmax\n",
    "results = {}\n",
    "best_val = -1\n",
    "best_softmax = None\n",
    "learning_rates = [1e-7, 5e-7]\n",
    "\n",
    "################################################################################\n",
    "# TODO:                                                                        #\n",
    "# Use the validation set to set the learning.                                  #\n",
    "# Save the best trained softmax classifer in best_softmax.                     #\n",
    "################################################################################\n",
    "#pass\n",
    "################################################################################\n",
    "#                              END OF YOUR CODE                                #\n",
    "################################################################################\n",
    "for lr in learning_rates:\n",
    "        softmax = Softmax()\n",
    "        softmax.train(X_train, y_train, learning_rate = lr,  num_iters = 5000,verbose = True)\n",
    "        \n",
    "        y_train_pred = softmax.predict(X_train)\n",
    "        temp_train_accuracy=np.mean(y_train_pred == y_train)\n",
    "        \n",
    "        y_val_pred = softmax.predict(X_val)\n",
    "        temp_val_accuracy=np.mean(y_val_pred == y_val)\n",
    "        results[lr] = (temp_train_accuracy, temp_val_accuracy)\n",
    "        \n",
    "        if temp_val_accuracy > best_val:\n",
    "            best_val = temp_val_accuracy\n",
    "            best_softmax = softmax\n",
    "\n",
    "            \n",
    "for lr in sorted(results):\n",
    "    train_accuracy, val_accuracy = results[lr]\n",
    "    print('lr %e train accuracy: %f val accuracy: %f' % (\n",
    "                lr, train_accuracy, val_accuracy))\n",
    "    \n",
    "print('best validation accuracy achieved during cross-validation: %f' % best_val)"
   ]
  },
  {
   "cell_type": "code",
   "execution_count": 27,
   "metadata": {},
   "outputs": [
    {
     "name": "stdout",
     "output_type": "stream",
     "text": [
      "softmax on raw pixels final test set accuracy: 0.359000\n"
     ]
    }
   ],
   "source": [
    "# evaluate on val set\n",
    "# Evaluate the best softmax on val set\n",
    "y_val_pred = best_softmax.predict(X_val)\n",
    "val_accuracy = np.mean(y_val == y_val_pred)\n",
    "print('softmax on raw pixels final test set accuracy: %f' % (val_accuracy, ))"
   ]
  },
  {
   "cell_type": "markdown",
   "metadata": {},
   "source": [
    "Save the best_softmax weights using pickle:"
   ]
  },
  {
   "cell_type": "code",
   "execution_count": 28,
   "metadata": {},
   "outputs": [],
   "source": [
    "with open('softmax_weights.pkl', 'wb') as f:\n",
    "    pickle.dump(best_softmax.W, f)"
   ]
  },
  {
   "cell_type": "markdown",
   "metadata": {},
   "source": [
    "Load the best_softmax weights using pickle:"
   ]
  },
  {
   "cell_type": "code",
   "execution_count": 29,
   "metadata": {},
   "outputs": [],
   "source": [
    "with open('softmax_weights.pkl', 'rb') as f:\n",
    "    W = pickle.load(f)\n",
    "new_softmax = Softmax()\n",
    "new_softmax.W = W.copy()"
   ]
  },
  {
   "cell_type": "code",
   "execution_count": 30,
   "metadata": {},
   "outputs": [
    {
     "data": {
      "image/png": "[encoded data removed]",
      "text/plain": [
       "<Figure size 432x288 with 10 Axes>"
      ]
     },
     "metadata": {
      "needs_background": "light"
     },
     "output_type": "display_data"
    }
   ],
   "source": [
    "# Visualize the learned weights for each class\n",
    "w = best_softmax.W[:-1,:] # strip out the bias\n",
    "w = w.reshape(32, 32, 3, 10)\n",
    "\n",
    "w_min, w_max = np.min(w), np.max(w)\n",
    "\n",
    "classes = ['plane', 'car', 'bird', 'cat', 'deer', 'dog', 'frog', 'horse', 'ship', 'truck']\n",
    "for i in range(10):\n",
    "    plt.subplot(2, 5, i + 1)\n",
    "    \n",
    "    # Rescale the weights to be between 0 and 255\n",
    "    wimg = 255.0 * (w[:, :, :, i].squeeze() - w_min) / (w_max - w_min)\n",
    "    plt.imshow(wimg.astype('uint8'))\n",
    "    plt.axis('off')\n",
    "    plt.title(classes[i])"
   ]
  },
  {
   "cell_type": "code",
   "execution_count": null,
   "metadata": {},
   "outputs": [],
   "source": []
  },
  {
   "cell_type": "code",
   "execution_count": 5,
   "metadata": {},
   "outputs": [],
   "source": [
    "from linear_classifier import Softmax "
   ]
  },
  {
   "cell_type": "code",
   "execution_count": 7,
   "metadata": {},
   "outputs": [],
   "source": [
    "    with open('softmax_weights.pkl', 'rb') as f:\n",
    "        W = pickle.load(f)  \n",
    "    new_softmax = Softmax()\n",
    "    new_softmax.W = W.copy()\n",
    "    y_pred = new_softmax.predict(X_train)\n"
   ]
  },
  {
   "cell_type": "code",
   "execution_count": 8,
   "metadata": {},
   "outputs": [
    {
     "data": {
      "text/plain": [
       "array([5, 1, 9, ..., 6, 1, 8], dtype=int64)"
      ]
     },
     "execution_count": 8,
     "metadata": {},
     "output_type": "execute_result"
    }
   ],
   "source": [
    "y_pred"
   ]
  },
  {
   "cell_type": "code",
   "execution_count": null,
   "metadata": {},
   "outputs": [],
   "source": []
  }
 ],
 "metadata": {
  "kernelspec": {
   "display_name": "Python 3",
   "language": "python",
   "name": "python3"
  },
  "language_info": {
   "codemirror_mode": {
    "name": "ipython",
    "version": 3
   },
   "file_extension": ".py",
   "mimetype": "text/x-python",
   "name": "python",
   "nbconvert_exporter": "python",
   "pygments_lexer": "ipython3",
   "version": "3.5.6"
  }
 },
 "nbformat": 4,
 "nbformat_minor": 1
}

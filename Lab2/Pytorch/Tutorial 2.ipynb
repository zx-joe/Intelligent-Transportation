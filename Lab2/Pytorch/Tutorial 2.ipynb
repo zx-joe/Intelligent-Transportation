{
 "cells": [
  {
   "cell_type": "markdown",
   "metadata": {},
   "source": [
    "# Training Neural Networks\n",
    "\n",
    "The network we built in Part 1 is dumb, it doesn't know anything about our handwritten digits. Neural networks with non-linear activations work like universal function approximators. There is some function that maps your input to the output. For example, images of handwritten digits to class probabilities. The power of neural networks is that we can train them to approximate this function, and basically any function given enough data and compute time.\n",
    "\n",
    "<img src=\"assets/function_approx.png\" width=500px>\n",
    "\n",
    "At first the network is naive, it doesn't know the function mapping the inputs to the outputs. We train the network by showing it examples of real data, then adjusting the network parameters such that it approximates this function.\n",
    "\n",
    "To find these parameters, we need to know how poorly the network is predicting the real outputs. For this we calculate a **loss function** (also called the cost), a measure of our prediction error. For example, the mean squared loss is often used in regression and binary classification problems\n",
    "\n",
    "$$\n",
    "C = \\frac{1}{2n}\\sum_i^n{\\left(y_i - \\hat{y}_i\\right)^2}\n",
    "$$\n",
    "\n",
    "where $n$ is the number of training examples, $y_i$ are the true labels, and $\\hat{y}_i$ are the predicted labels.\n",
    "\n",
    "By minimizing this loss with respect to the network parameters, we can find configurations where the loss is at a minimum and the network is able to predict the correct labels with high accuracy. We find this minimum using a process called **gradient descent**. The gradient is the slope of the loss function and points in the direction of fastest change. To get to the minimum in the least amount of time, we then want to follow the gradient (downwards). You can think of this like descending a mountain by following the steepest slope to the base.\n",
    "\n",
    "<img src='assets/gradient_descent.png' width=350px>"
   ]
  },
  {
   "cell_type": "markdown",
   "metadata": {},
   "source": [
    "## Backpropagation\n",
    "\n",
    "For single layer networks, gradient descent is simple to implement. However, it's more complicated for deeper, multilayer neural networks like the one we've built. Complicated enough that it took about 30 years before researchers figured out how to train multilayer networks, although it's straightforward once you learn about it. \n",
    "\n",
    "This is done through **backpropagation** which is really just an application of the chain rule from calculus. It's easiest to understand if we convert a two layer network into a graph representation.\n",
    "\n",
    "<img src='assets/w1_backprop_graph.png' width=400px>\n",
    "\n",
    "In the forward pass through the network, our data and operations go from right to left here. To train the weights with gradient descent, we propagate the gradient of the cost backwards through the network. Mathematically, this is really just calculating the gradient of the loss with respect to the weights using the chain rule.\n",
    "\n",
    "$$\n",
    "\\frac{\\partial C}{\\partial w_1} = \\frac{\\partial l_1}{\\partial w_1} \\frac{\\partial s}{\\partial l_1} \\frac{\\partial l_2}{\\partial s} \\frac{\\partial C}{\\partial l_2}\n",
    "$$\n",
    "\n",
    "We update our weights using this gradient with some learning rate $\\alpha$. \n",
    "\n",
    "$$\n",
    "w^\\prime = w - \\alpha \\frac{\\partial C}{\\partial w}\n",
    "$$\n",
    "\n",
    "The learning rate is set such that the weight update steps are small enough that the iterative method settles in a minimum.\n",
    "\n",
    "The first thing we need to do for training is define our loss function. In PyTorch, you'll usually see this as `criterion`. Here we're using softmax output, so we want to use `criterion = nn.CrossEntropyLoss()` as our loss. Later when training, you use `loss = criterion(output, targets)` to calculate the actual loss.\n",
    "\n",
    "We also need to define the optimizer we're using, SGD or Adam, or something along those lines. Here I'll just use SGD with `torch.optim.SGD`, passing in the network parameters and the learning rate."
   ]
  },
  {
   "cell_type": "markdown",
   "metadata": {
    "collapsed": true
   },
   "source": [
    "## Gradients\n",
    "\n",
    "In PyTorch, the gradients are calculated automatically. It does this by keeping track of operations performed on tensors. For PyTorch to track operations and calculate the gradients, you need to set `require_grad` = `True` when creating a tensor.\n",
    "\n",
    "The gradients of a tensor (e.g.,`z`) are computed with respect to the variable that created it using `z.backward()`. This does a backward pass through the operations that created `z`."
   ]
  },
  {
   "cell_type": "code",
   "execution_count": 1,
   "metadata": {},
   "outputs": [],
   "source": [
    "%matplotlib inline\n",
    "%config InlineBackend.figure_format = 'retina'\n",
    "\n",
    "import numpy as np\n",
    "import time\n",
    "\n",
    "import torch\n",
    "from torch import nn\n",
    "from torch import optim\n",
    "import torch.nn.functional as F\n",
    "\n",
    "import helper"
   ]
  },
  {
   "cell_type": "code",
   "execution_count": 2,
   "metadata": {},
   "outputs": [
    {
     "data": {
      "text/plain": [
       "tensor([[1., 1.],\n",
       "        [1., 1.]], requires_grad=True)"
      ]
     },
     "execution_count": 2,
     "metadata": {},
     "output_type": "execute_result"
    }
   ],
   "source": [
    "x = torch.ones(2,2,requires_grad=True)\n",
    "x"
   ]
  },
  {
   "cell_type": "code",
   "execution_count": 3,
   "metadata": {},
   "outputs": [
    {
     "data": {
      "text/plain": [
       "tensor([[12., 12.],\n",
       "        [12., 12.]], grad_fn=<MulBackward0>)"
      ]
     },
     "execution_count": 3,
     "metadata": {},
     "output_type": "execute_result"
    }
   ],
   "source": [
    "y = 3*(x+1)**2\n",
    "y"
   ]
  },
  {
   "cell_type": "markdown",
   "metadata": {},
   "source": [
    "Below we can see the operation that created `y`, a `MulConstant` op."
   ]
  },
  {
   "cell_type": "code",
   "execution_count": 4,
   "metadata": {},
   "outputs": [
    {
     "data": {
      "text/plain": [
       "<MulBackward0 at 0x2040543ae10>"
      ]
     },
     "execution_count": 4,
     "metadata": {},
     "output_type": "execute_result"
    }
   ],
   "source": [
    "## grad_fn shows the function that generated this variable\n",
    "y.grad_fn"
   ]
  },
  {
   "cell_type": "code",
   "execution_count": 5,
   "metadata": {},
   "outputs": [
    {
     "data": {
      "text/plain": [
       "tensor(12., grad_fn=<MeanBackward1>)"
      ]
     },
     "execution_count": 5,
     "metadata": {},
     "output_type": "execute_result"
    }
   ],
   "source": [
    "z = y.mean()\n",
    "z"
   ]
  },
  {
   "cell_type": "markdown",
   "metadata": {},
   "source": [
    "Again, we can check out how `z` was created, with a `Mean` operation."
   ]
  },
  {
   "cell_type": "code",
   "execution_count": 6,
   "metadata": {},
   "outputs": [
    {
     "data": {
      "text/plain": [
       "<MeanBackward1 at 0x2040543a438>"
      ]
     },
     "execution_count": 6,
     "metadata": {},
     "output_type": "execute_result"
    }
   ],
   "source": [
    "z.grad_fn"
   ]
  },
  {
   "cell_type": "markdown",
   "metadata": {},
   "source": [
    "Since we haven't performed a backward pass, `x` doesn't have a gradient yet."
   ]
  },
  {
   "cell_type": "code",
   "execution_count": 7,
   "metadata": {},
   "outputs": [],
   "source": [
    "x.grad"
   ]
  },
  {
   "cell_type": "markdown",
   "metadata": {},
   "source": [
    "Now we can calculate the gradients of `z` with respect to `x` with `z.backward()`."
   ]
  },
  {
   "cell_type": "code",
   "execution_count": 8,
   "metadata": {},
   "outputs": [
    {
     "data": {
      "text/plain": [
       "tensor([[3., 3.],\n",
       "        [3., 3.]])"
      ]
     },
     "execution_count": 8,
     "metadata": {},
     "output_type": "execute_result"
    }
   ],
   "source": [
    "z.backward()\n",
    "x.grad"
   ]
  },
  {
   "cell_type": "markdown",
   "metadata": {},
   "source": [
    "These gradients calculations are particularly useful for neural networks. For training we need the gradients of the weights with respect to the cost. With PyTorch, we run data forward through the network to calculate the cost, then, go backwards to calculate the gradients with respect to the cost. Once we have the gradients we can make a gradient descent step. "
   ]
  },
  {
   "cell_type": "markdown",
   "metadata": {},
   "source": [
    "## Training the network!\n",
    "\n",
    "The first thing we need to do for training is define our loss function. In PyTorch, you'll usually see this as `criterion`. Here we're using softmax output, so we want to use `criterion = nn.CrossEntropyLoss()` as our loss. Later when training, you use `loss = criterion(output, targets)` to calculate the actual loss.\n",
    "\n",
    "We also need to define the optimizer we're using, SGD or Adam, or something along those lines. Here I'll just use SGD with `torch.optim.SGD`, passing in the network parameters and the learning rate."
   ]
  },
  {
   "cell_type": "code",
   "execution_count": 9,
   "metadata": {},
   "outputs": [],
   "source": [
    "from torchvision import datasets, transforms\n",
    "\n",
    "# Define a transform to normalize the data\n",
    "transform = transforms.Compose([transforms.ToTensor(),\n",
    "                              transforms.Normalize((0.5,), (0.5,)),\n",
    "                             ])\n",
    "# Download and load the training data\n",
    "trainset = datasets.MNIST('MNIST_data/', download=True, train=True, transform=transform)\n",
    "trainloader = torch.utils.data.DataLoader(trainset, batch_size=64, shuffle=True)\n",
    "\n",
    "# Download and load the test data\n",
    "testset = datasets.MNIST('MNIST_data/', download=True, train=False, transform=transform)\n",
    "testloader = torch.utils.data.DataLoader(testset, batch_size=64, shuffle=True)"
   ]
  },
  {
   "cell_type": "code",
   "execution_count": 10,
   "metadata": {},
   "outputs": [],
   "source": [
    "class Network(nn.Module):\n",
    "    def __init__(self):\n",
    "        super().__init__()\n",
    "        # Defining the layers, 200, 50, 10 units each\n",
    "        self.fc1 = nn.Linear(784, 200)\n",
    "        self.fc2 = nn.Linear(200, 50)\n",
    "        # Output layer, 10 units - one for each digit\n",
    "        self.fc3 = nn.Linear(50, 10)\n",
    "        \n",
    "    def forward(self, x):\n",
    "        ''' Forward pass through the network, returns the output logits '''\n",
    "        \n",
    "        x = self.fc1(x)\n",
    "        x = F.relu(x)\n",
    "        x = self.fc2(x)\n",
    "        x = F.relu(x)\n",
    "        x = self.fc3(x)\n",
    "        \n",
    "        return x\n",
    "    \n",
    "    def predict(self, x):\n",
    "        ''' This function for predicts classes by calculating the softmax '''\n",
    "        logits = self.forward(x)\n",
    "        return F.softmax(logits)"
   ]
  },
  {
   "cell_type": "code",
   "execution_count": 11,
   "metadata": {},
   "outputs": [],
   "source": [
    "net = Network()\n",
    "criterion = nn.CrossEntropyLoss()\n",
    "optimizer = optim.SGD(net.parameters(), lr=0.01)"
   ]
  },
  {
   "cell_type": "markdown",
   "metadata": {},
   "source": [
    "First, let's consider just one learning step before looping through all the data. The general process with PyTorch:\n",
    "\n",
    "* Make a forward pass through the network to get the logits \n",
    "* Use the logits to calculate the loss\n",
    "* Perform a backward pass through the network with `loss.backward()` to calculate the gradients\n",
    "* Take a step with the optimizer to update the weights\n",
    "\n",
    "Below I'll go through one training step and print out the weights and gradients so you can see how it changes."
   ]
  },
  {
   "cell_type": "code",
   "execution_count": 12,
   "metadata": {},
   "outputs": [
    {
     "name": "stdout",
     "output_type": "stream",
     "text": [
      "Initial weights -  Parameter containing:\n",
      "tensor([[ 0.0326,  0.0098,  0.0290,  ..., -0.0194,  0.0350, -0.0233],\n",
      "        [-0.0295, -0.0089, -0.0227,  ...,  0.0034, -0.0062,  0.0168],\n",
      "        [ 0.0259,  0.0125,  0.0314,  ...,  0.0151,  0.0170,  0.0054],\n",
      "        ...,\n",
      "        [-0.0255, -0.0203, -0.0150,  ...,  0.0342,  0.0340, -0.0051],\n",
      "        [-0.0334,  0.0064, -0.0099,  ..., -0.0324,  0.0183,  0.0168],\n",
      "        [-0.0263,  0.0264, -0.0232,  ...,  0.0162, -0.0340, -0.0074]],\n",
      "       requires_grad=True)\n",
      "Gradient - tensor([[-0.0005, -0.0005, -0.0005,  ..., -0.0005, -0.0005, -0.0005],\n",
      "        [-0.0004, -0.0004, -0.0004,  ..., -0.0004, -0.0004, -0.0004],\n",
      "        [ 0.0018,  0.0018,  0.0018,  ...,  0.0018,  0.0018,  0.0018],\n",
      "        ...,\n",
      "        [ 0.0027,  0.0027,  0.0027,  ...,  0.0027,  0.0027,  0.0027],\n",
      "        [ 0.0010,  0.0010,  0.0010,  ...,  0.0010,  0.0010,  0.0010],\n",
      "        [-0.0008, -0.0008, -0.0008,  ..., -0.0008, -0.0008, -0.0008]])\n"
     ]
    }
   ],
   "source": [
    "print('Initial weights - ', net.fc1.weight)\n",
    "\n",
    "dataiter = iter(trainloader)\n",
    "inputs, targets = dataiter.next()\n",
    "\n",
    "inputs.resize_(64, 784)\n",
    "\n",
    "# Clear the gradients from all Tensors\n",
    "optimizer.zero_grad()\n",
    "\n",
    "# Forward pass, then backward pass, then update weights\n",
    "output = net.forward(inputs)\n",
    "loss = criterion(output, targets)\n",
    "loss.backward()\n",
    "print('Gradient -', net.fc1.weight.grad)\n",
    "optimizer.step()"
   ]
  },
  {
   "cell_type": "markdown",
   "metadata": {},
   "source": [
    "We will output the updated weights that are updated using SGD with learning rate (0.01). Since both the learning rate and gradients are small, the changes of the weights might not be drastic"
   ]
  },
  {
   "cell_type": "code",
   "execution_count": 13,
   "metadata": {},
   "outputs": [
    {
     "name": "stdout",
     "output_type": "stream",
     "text": [
      "Updated weights -  Parameter containing:\n",
      "tensor([[ 0.0326,  0.0098,  0.0290,  ..., -0.0194,  0.0350, -0.0233],\n",
      "        [-0.0295, -0.0089, -0.0227,  ...,  0.0034, -0.0062,  0.0169],\n",
      "        [ 0.0258,  0.0125,  0.0314,  ...,  0.0150,  0.0169,  0.0053],\n",
      "        ...,\n",
      "        [-0.0256, -0.0203, -0.0150,  ...,  0.0342,  0.0340, -0.0051],\n",
      "        [-0.0334,  0.0064, -0.0099,  ..., -0.0324,  0.0183,  0.0168],\n",
      "        [-0.0263,  0.0264, -0.0231,  ...,  0.0162, -0.0340, -0.0074]],\n",
      "       requires_grad=True)\n"
     ]
    }
   ],
   "source": [
    "print('Updated weights - ', net.fc1.weight)"
   ]
  },
  {
   "cell_type": "markdown",
   "metadata": {},
   "source": [
    "### Training for real\n",
    "\n",
    "Now we'll put this algorithm into a loop so we can go through all the images. This is fairly straightforward. We'll loop through the mini-batches in our dataset, pass the data through the network to calculate the losses, get the gradients, then run the optimizer"
   ]
  },
  {
   "cell_type": "code",
   "execution_count": 14,
   "metadata": {},
   "outputs": [],
   "source": [
    "net = Network()\n",
    "optimizer = optim.Adam(net.parameters(), lr=0.001)"
   ]
  },
  {
   "cell_type": "code",
   "execution_count": 15,
   "metadata": {},
   "outputs": [
    {
     "name": "stderr",
     "output_type": "stream",
     "text": [
      "D:\\python\\lib\\site-packages\\ipykernel_launcher.py:24: UserWarning: Implicit dimension choice for softmax has been deprecated. Change the call to include dim=X as an argument.\n"
     ]
    },
    {
     "name": "stdout",
     "output_type": "stream",
     "text": [
      "Epoch: 1/1 Loss: 2.2153 Test accuracy: 0.4545\n",
      "Epoch: 1/1 Loss: 1.9027 Test accuracy: 0.5581\n",
      "Epoch: 1/1 Loss: 1.4983 Test accuracy: 0.6716\n",
      "Epoch: 1/1 Loss: 1.2235 Test accuracy: 0.7231\n",
      "Epoch: 1/1 Loss: 0.9752 Test accuracy: 0.7549\n",
      "Epoch: 1/1 Loss: 0.8153 Test accuracy: 0.7959\n",
      "Epoch: 1/1 Loss: 0.6782 Test accuracy: 0.7934\n",
      "Epoch: 1/1 Loss: 0.6261 Test accuracy: 0.8124\n",
      "Epoch: 1/1 Loss: 0.6520 Test accuracy: 0.8481\n",
      "Epoch: 1/1 Loss: 0.5616 Test accuracy: 0.8270\n",
      "Epoch: 1/1 Loss: 0.5168 Test accuracy: 0.8421\n",
      "Epoch: 1/1 Loss: 0.5735 Test accuracy: 0.8668\n",
      "Epoch: 1/1 Loss: 0.4113 Test accuracy: 0.8641\n",
      "Epoch: 1/1 Loss: 0.4354 Test accuracy: 0.8731\n",
      "Epoch: 1/1 Loss: 0.4219 Test accuracy: 0.8789\n",
      "Epoch: 1/1 Loss: 0.4241 Test accuracy: 0.8802\n",
      "Epoch: 1/1 Loss: 0.4382 Test accuracy: 0.8768\n",
      "Epoch: 1/1 Loss: 0.3908 Test accuracy: 0.8725\n",
      "Epoch: 1/1 Loss: 0.4647 Test accuracy: 0.8802\n",
      "Epoch: 1/1 Loss: 0.4887 Test accuracy: 0.8680\n",
      "Epoch: 1/1 Loss: 0.4558 Test accuracy: 0.8917\n",
      "Epoch: 1/1 Loss: 0.4486 Test accuracy: 0.8888\n",
      "Epoch: 1/1 Loss: 0.3506 Test accuracy: 0.8630\n",
      "Epoch: 1/1 Loss: 0.4712 Test accuracy: 0.8905\n",
      "Epoch: 1/1 Loss: 0.4146 Test accuracy: 0.8854\n",
      "Epoch: 1/1 Loss: 0.4183 Test accuracy: 0.8924\n",
      "Epoch: 1/1 Loss: 0.4113 Test accuracy: 0.8870\n",
      "Epoch: 1/1 Loss: 0.3464 Test accuracy: 0.8963\n",
      "Epoch: 1/1 Loss: 0.4198 Test accuracy: 0.8871\n",
      "Epoch: 1/1 Loss: 0.3880 Test accuracy: 0.8977\n",
      "Epoch: 1/1 Loss: 0.3870 Test accuracy: 0.9050\n",
      "Epoch: 1/1 Loss: 0.3873 Test accuracy: 0.8980\n",
      "Epoch: 1/1 Loss: 0.3647 Test accuracy: 0.8995\n",
      "Epoch: 1/1 Loss: 0.3562 Test accuracy: 0.9049\n",
      "Epoch: 1/1 Loss: 0.2907 Test accuracy: 0.9072\n",
      "Epoch: 1/1 Loss: 0.3191 Test accuracy: 0.8995\n",
      "Epoch: 1/1 Loss: 0.3743 Test accuracy: 0.9049\n",
      "Epoch: 1/1 Loss: 0.3892 Test accuracy: 0.8966\n",
      "Epoch: 1/1 Loss: 0.3747 Test accuracy: 0.8999\n",
      "Epoch: 1/1 Loss: 0.3823 Test accuracy: 0.8981\n",
      "Epoch: 1/1 Loss: 0.2883 Test accuracy: 0.9086\n",
      "Epoch: 1/1 Loss: 0.3109 Test accuracy: 0.9044\n",
      "Epoch: 1/1 Loss: 0.3529 Test accuracy: 0.9057\n",
      "Epoch: 1/1 Loss: 0.3766 Test accuracy: 0.8991\n",
      "Epoch: 1/1 Loss: 0.2900 Test accuracy: 0.9080\n",
      "Epoch: 1/1 Loss: 0.3185 Test accuracy: 0.8987\n",
      "Epoch: 1/1 Loss: 0.3094 Test accuracy: 0.9037\n",
      "Epoch: 1/1 Loss: 0.3596 Test accuracy: 0.9059\n",
      "Epoch: 1/1 Loss: 0.3381 Test accuracy: 0.9105\n",
      "Epoch: 1/1 Loss: 0.3104 Test accuracy: 0.9065\n",
      "Epoch: 1/1 Loss: 0.2742 Test accuracy: 0.9173\n",
      "Epoch: 1/1 Loss: 0.3355 Test accuracy: 0.9179\n",
      "Epoch: 1/1 Loss: 0.2965 Test accuracy: 0.9137\n",
      "Epoch: 1/1 Loss: 0.3642 Test accuracy: 0.9132\n",
      "Epoch: 1/1 Loss: 0.3308 Test accuracy: 0.9157\n",
      "Epoch: 1/1 Loss: 0.2771 Test accuracy: 0.9198\n",
      "Epoch: 1/1 Loss: 0.2682 Test accuracy: 0.9119\n",
      "Epoch: 1/1 Loss: 0.2746 Test accuracy: 0.9125\n",
      "Epoch: 1/1 Loss: 0.2779 Test accuracy: 0.9200\n",
      "Epoch: 1/1 Loss: 0.3342 Test accuracy: 0.9107\n",
      "Epoch: 1/1 Loss: 0.2677 Test accuracy: 0.9066\n",
      "Epoch: 1/1 Loss: 0.2620 Test accuracy: 0.9062\n",
      "Epoch: 1/1 Loss: 0.2769 Test accuracy: 0.9100\n",
      "Epoch: 1/1 Loss: 0.3005 Test accuracy: 0.9200\n",
      "Epoch: 1/1 Loss: 0.2797 Test accuracy: 0.9118\n",
      "Epoch: 1/1 Loss: 0.2736 Test accuracy: 0.9258\n",
      "Epoch: 1/1 Loss: 0.2752 Test accuracy: 0.9232\n",
      "Epoch: 1/1 Loss: 0.2565 Test accuracy: 0.9160\n",
      "Epoch: 1/1 Loss: 0.2722 Test accuracy: 0.9168\n",
      "Epoch: 1/1 Loss: 0.2771 Test accuracy: 0.9251\n",
      "Epoch: 1/1 Loss: 0.2744 Test accuracy: 0.9217\n",
      "Epoch: 1/1 Loss: 0.3008 Test accuracy: 0.9268\n",
      "Epoch: 1/1 Loss: 0.3100 Test accuracy: 0.9285\n",
      "Epoch: 1/1 Loss: 0.2576 Test accuracy: 0.9286\n",
      "Epoch: 1/1 Loss: 0.3199 Test accuracy: 0.9316\n",
      "Epoch: 1/1 Loss: 0.2723 Test accuracy: 0.9238\n",
      "Epoch: 1/1 Loss: 0.2783 Test accuracy: 0.9267\n",
      "Epoch: 1/1 Loss: 0.2414 Test accuracy: 0.9288\n",
      "Epoch: 1/1 Loss: 0.2683 Test accuracy: 0.9281\n",
      "Epoch: 1/1 Loss: 0.2207 Test accuracy: 0.9324\n",
      "Epoch: 1/1 Loss: 0.2213 Test accuracy: 0.9303\n",
      "Epoch: 1/1 Loss: 0.2320 Test accuracy: 0.9271\n",
      "Epoch: 1/1 Loss: 0.2960 Test accuracy: 0.9237\n",
      "Epoch: 1/1 Loss: 0.2416 Test accuracy: 0.9239\n",
      "Epoch: 1/1 Loss: 0.2757 Test accuracy: 0.9271\n",
      "Epoch: 1/1 Loss: 0.2876 Test accuracy: 0.9353\n",
      "Epoch: 1/1 Loss: 0.2702 Test accuracy: 0.9278\n",
      "Epoch: 1/1 Loss: 0.3043 Test accuracy: 0.9298\n",
      "Epoch: 1/1 Loss: 0.2217 Test accuracy: 0.9251\n",
      "Epoch: 1/1 Loss: 0.2086 Test accuracy: 0.9331\n",
      "Epoch: 1/1 Loss: 0.2254 Test accuracy: 0.9300\n",
      "Epoch: 1/1 Loss: 0.2919 Test accuracy: 0.9367\n",
      "Epoch: 1/1 Loss: 0.2425 Test accuracy: 0.9343\n"
     ]
    }
   ],
   "source": [
    "epochs = 1\n",
    "steps = 0\n",
    "running_loss = 0\n",
    "print_every = 10\n",
    "for e in range(epochs):\n",
    "    for inputs, targets in iter(trainloader):\n",
    "        steps += 1\n",
    "        # Flatten MNIST images into a 784 long vector\n",
    "        inputs.resize_(inputs.size()[0], 784)\n",
    "\n",
    "        optimizer.zero_grad()\n",
    "        \n",
    "        output = net(inputs)\n",
    "        loss = criterion(output, targets)\n",
    "        loss.backward()\n",
    "        optimizer.step()\n",
    "        \n",
    "        running_loss += loss.item()\n",
    "        \n",
    "        if steps % print_every == 0:\n",
    "            # Test accuracy\n",
    "            accuracy = 0\n",
    "            for ii, (inputs, targets) in enumerate(testloader):\n",
    "                \n",
    "                inputs = inputs.resize_(inputs.size()[0], 784)\n",
    "                \n",
    "                predicted = net.predict(inputs).data\n",
    "                equality = (targets == predicted.max(1)[1])\n",
    "                accuracy += equality.type_as(torch.FloatTensor()).mean()\n",
    "            \n",
    "            print(\"Epoch: {}/{}\".format(e+1, epochs),\n",
    "                  \"Loss: {:.4f}\".format(running_loss/print_every),\n",
    "                  \"Test accuracy: {:.4f}\".format(accuracy/(ii+1)))\n",
    "            running_loss = 0"
   ]
  },
  {
   "cell_type": "code",
   "execution_count": 16,
   "metadata": {},
   "outputs": [],
   "source": [
    "dataiter = iter(testloader)\n",
    "inputs, targets = dataiter.next()"
   ]
  },
  {
   "cell_type": "code",
   "execution_count": 17,
   "metadata": {},
   "outputs": [
    {
     "name": "stderr",
     "output_type": "stream",
     "text": [
      "D:\\python\\lib\\site-packages\\ipykernel_launcher.py:24: UserWarning: Implicit dimension choice for softmax has been deprecated. Change the call to include dim=X as an argument.\n"
     ]
    },
    {
     "data": {
      "image/png": "[encoded data removed]",
      "text/plain": [
       "<Figure size 432x504 with 2 Axes>"
      ]
     },
     "metadata": {
      "image/png": {
       "height": 197,
       "width": 370
      },
      "needs_background": "light"
     },
     "output_type": "display_data"
    }
   ],
   "source": [
    "img = inputs[0]\n",
    "ps = net.predict(img.resize_(1, 784))\n",
    "helper.view_classify(img.resize_(1, 28, 28), ps)"
   ]
  },
  {
   "cell_type": "code",
   "execution_count": null,
   "metadata": {},
   "outputs": [],
   "source": []
  },
  {
   "cell_type": "code",
   "execution_count": null,
   "metadata": {},
   "outputs": [],
   "source": []
  }
 ],
 "metadata": {
  "kernelspec": {
   "display_name": "Python 3",
   "language": "python",
   "name": "python3"
  },
  "language_info": {
   "codemirror_mode": {
    "name": "ipython",
    "version": 3
   },
   "file_extension": ".py",
   "mimetype": "text/x-python",
   "name": "python",
   "nbconvert_exporter": "python",
   "pygments_lexer": "ipython3",
   "version": "3.5.6"
  },
  "nteract": {
   "version": "0.12.3"
  }
 },
 "nbformat": 4,
 "nbformat_minor": 2
}
